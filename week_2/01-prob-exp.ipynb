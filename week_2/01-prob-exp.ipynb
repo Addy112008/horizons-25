{
 "cells": [
  {
   "cell_type": "code",
   "execution_count": 3,
   "id": "06b2d658",
   "metadata": {},
   "outputs": [
    {
     "name": "stdout",
     "output_type": "stream",
     "text": [
      "Total flips: 10000\n",
      "Heads: 5075 (50.75%)\n",
      "Tails: 4925 (49.25%)\n"
     ]
    }
   ],
   "source": [
    "import random\n",
    "\n",
    "def coin_flip(trials):\n",
    "    heads = 0\n",
    "    tails = 0\n",
    "\n",
    "    for _ in range(trials):\n",
    "        flip = random.choice(['Heads', 'Tails'])\n",
    "        if flip == 'Heads':\n",
    "            heads += 1\n",
    "        else:\n",
    "            tails += 1\n",
    "\n",
    "    print(f\"Total flips: {trials}\")\n",
    "    print(f\"Heads: {heads} ({heads/trials:.2%})\")\n",
    "    print(f\"Tails: {tails} ({tails/trials:.2%})\")\n",
    "\n",
    "# Run the simulation with 1000 coin flips\n",
    "coin_flip(10000)\n"
   ]
  }
 ],
 "metadata": {
  "kernelspec": {
   "display_name": "horizons25",
   "language": "python",
   "name": "python3"
  },
  "language_info": {
   "codemirror_mode": {
    "name": "ipython",
    "version": 3
   },
   "file_extension": ".py",
   "mimetype": "text/x-python",
   "name": "python",
   "nbconvert_exporter": "python",
   "pygments_lexer": "ipython3",
   "version": "3.12.9"
  }
 },
 "nbformat": 4,
 "nbformat_minor": 5
}
