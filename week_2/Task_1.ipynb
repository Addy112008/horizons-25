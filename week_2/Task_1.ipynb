{
 "cells": [
  {
   "cell_type": "code",
   "execution_count": 72,
   "id": "06b2d658",
   "metadata": {},
   "outputs": [],
   "source": [
    "# 1.1 Manual Calculation"
   ]
  },
  {
   "cell_type": "code",
   "execution_count": 73,
   "id": "05d24677",
   "metadata": {},
   "outputs": [],
   "source": [
    "import random"
   ]
  },
  {
   "cell_type": "code",
   "execution_count": 74,
   "id": "2ee0cbbf",
   "metadata": {},
   "outputs": [
    {
     "data": {
      "text/plain": [
       "[55, 92, 78, 60, 85, 78, 90, 66, 73, 88]"
      ]
     },
     "execution_count": 74,
     "metadata": {},
     "output_type": "execute_result"
    }
   ],
   "source": [
    "# Data\n",
    "scores = [55, 92, 78, 60, 85, 78, 90, 66, 73, 88]\n",
    "scores"
   ]
  },
  {
   "cell_type": "code",
   "execution_count": 75,
   "id": "42025e8d",
   "metadata": {},
   "outputs": [],
   "source": [
    "# 1. Mean Calculation"
   ]
  },
  {
   "cell_type": "code",
   "execution_count": 76,
   "id": "0fae92c2",
   "metadata": {},
   "outputs": [
    {
     "data": {
      "text/plain": [
       "765"
      ]
     },
     "execution_count": 76,
     "metadata": {},
     "output_type": "execute_result"
    }
   ],
   "source": [
    "sum_scores = sum(scores)\n",
    "sum_scores"
   ]
  },
  {
   "cell_type": "code",
   "execution_count": 77,
   "id": "2fe7255e",
   "metadata": {},
   "outputs": [
    {
     "data": {
      "text/plain": [
       "10"
      ]
     },
     "execution_count": 77,
     "metadata": {},
     "output_type": "execute_result"
    }
   ],
   "source": [
    "n= len(scores)\n",
    "n"
   ]
  },
  {
   "cell_type": "code",
   "execution_count": 78,
   "id": "b69d345b",
   "metadata": {},
   "outputs": [
    {
     "name": "stdout",
     "output_type": "stream",
     "text": [
      "Mean: 76.5\n"
     ]
    }
   ],
   "source": [
    "Mean = sum_scores/n \n",
    "print(\"Mean:\", Mean)"
   ]
  },
  {
   "cell_type": "code",
   "execution_count": 79,
   "id": "74a2013f",
   "metadata": {},
   "outputs": [],
   "source": [
    "# 2. Median Calculation"
   ]
  },
  {
   "cell_type": "code",
   "execution_count": 80,
   "id": "c55caf4e",
   "metadata": {},
   "outputs": [
    {
     "data": {
      "text/plain": [
       "[55, 60, 66, 73, 78, 78, 85, 88, 90, 92]"
      ]
     },
     "execution_count": 80,
     "metadata": {},
     "output_type": "execute_result"
    }
   ],
   "source": [
    "scores = [55, 92, 78, 60, 85, 78, 90, 66, 73, 88]\n",
    "scores.sort()\n",
    "scores"
   ]
  },
  {
   "cell_type": "code",
   "execution_count": 81,
   "id": "418c1f13",
   "metadata": {},
   "outputs": [
    {
     "name": "stdout",
     "output_type": "stream",
     "text": [
      "Median: 78.0\n"
     ]
    }
   ],
   "source": [
    "N = len(scores)\n",
    "mid1 = scores[(N // 2) - 1]\n",
    "mid2 = scores[N // 2]\n",
    "median = (mid1 + mid2) / 2\n",
    "print(\"Median:\", median)"
   ]
  },
  {
   "cell_type": "code",
   "execution_count": 82,
   "id": "5b6108ca",
   "metadata": {},
   "outputs": [],
   "source": [
    "# 3. Mode Calculation"
   ]
  },
  {
   "cell_type": "code",
   "execution_count": 83,
   "id": "27e971ad",
   "metadata": {},
   "outputs": [
    {
     "data": {
      "text/plain": [
       "{55: 1, 60: 1, 66: 1, 73: 1, 78: 2, 85: 1, 88: 1, 90: 1, 92: 1}"
      ]
     },
     "execution_count": 83,
     "metadata": {},
     "output_type": "execute_result"
    }
   ],
   "source": [
    "frequency = {}\n",
    "for score in scores:\n",
    "    if score in frequency:\n",
    "        frequency[score] += 1\n",
    "    else:\n",
    "        frequency[score] = 1\n",
    "frequency"
   ]
  },
  {
   "cell_type": "code",
   "execution_count": 84,
   "id": "1f773d14",
   "metadata": {},
   "outputs": [
    {
     "name": "stdout",
     "output_type": "stream",
     "text": [
      "Mode: [78]\n"
     ]
    }
   ],
   "source": [
    "max_freq = max(frequency.values())\n",
    "modes = [score for score, freq in frequency.items() if freq == max_freq]\n",
    "print(\"Mode:\", modes)"
   ]
  },
  {
   "cell_type": "code",
   "execution_count": 85,
   "id": "d5777a2f",
   "metadata": {},
   "outputs": [],
   "source": [
    "# 4. Range Calculation"
   ]
  },
  {
   "cell_type": "code",
   "execution_count": 86,
   "id": "e19e354b",
   "metadata": {},
   "outputs": [
    {
     "data": {
      "text/plain": [
       "(55, 92)"
      ]
     },
     "execution_count": 86,
     "metadata": {},
     "output_type": "execute_result"
    }
   ],
   "source": [
    "scores = [55, 92, 78, 60, 85, 78, 90, 66, 73, 88]\n",
    "minimum = min(scores)\n",
    "maximum = max(scores)\n",
    "minimum, maximum"
   ]
  },
  {
   "cell_type": "code",
   "execution_count": 87,
   "id": "2248887f",
   "metadata": {},
   "outputs": [
    {
     "name": "stdout",
     "output_type": "stream",
     "text": [
      "Range: 37\n"
     ]
    }
   ],
   "source": [
    "range_value = maximum - minimum\n",
    "print(\"Range:\", range_value)"
   ]
  },
  {
   "cell_type": "code",
   "execution_count": 88,
   "id": "9ba34d52",
   "metadata": {},
   "outputs": [],
   "source": [
    "# 5. Variance Calculation"
   ]
  },
  {
   "cell_type": "code",
   "execution_count": 89,
   "id": "faf87f9b",
   "metadata": {},
   "outputs": [
    {
     "data": {
      "text/plain": [
       "[462.25, 240.25, 2.25, 272.25, 72.25, 2.25, 182.25, 110.25, 12.25, 132.25]"
      ]
     },
     "execution_count": 89,
     "metadata": {},
     "output_type": "execute_result"
    }
   ],
   "source": [
    "squared_diffs = [(x - Mean) ** 2 for x in scores]\n",
    "squared_diffs\n"
   ]
  },
  {
   "cell_type": "code",
   "execution_count": 90,
   "id": "25ec0b5c",
   "metadata": {},
   "outputs": [
    {
     "name": "stdout",
     "output_type": "stream",
     "text": [
      "Variance: 148.85\n"
     ]
    }
   ],
   "source": [
    "variance = sum(squared_diffs) / n\n",
    "print(\"Variance:\", variance)"
   ]
  },
  {
   "cell_type": "code",
   "execution_count": 91,
   "id": "3c34717e",
   "metadata": {},
   "outputs": [],
   "source": [
    "# 6. Std. Deviation Calculation"
   ]
  },
  {
   "cell_type": "code",
   "execution_count": 92,
   "id": "a91def4b",
   "metadata": {},
   "outputs": [
    {
     "name": "stdout",
     "output_type": "stream",
     "text": [
      "Standard Deviation: 12.200409829181968\n"
     ]
    }
   ],
   "source": [
    "standard_deviation = variance ** 0.5\n",
    "print(\"Standard Deviation:\", standard_deviation)"
   ]
  },
  {
   "cell_type": "code",
   "execution_count": 93,
   "id": "6ff9cb8c",
   "metadata": {},
   "outputs": [],
   "source": [
    "# 1.2 Using NumPy\n",
    "\n",
    "import numpy as np"
   ]
  },
  {
   "cell_type": "code",
   "execution_count": 94,
   "id": "097f877e",
   "metadata": {},
   "outputs": [],
   "source": [
    "# 1. Mean, Median, Range, Variance, Std. Deviation"
   ]
  },
  {
   "cell_type": "code",
   "execution_count": 95,
   "id": "ef4f7acc",
   "metadata": {},
   "outputs": [
    {
     "data": {
      "text/plain": [
       "[55, 92, 78, 60, 85, 78, 90, 66, 73, 88]"
      ]
     },
     "execution_count": 95,
     "metadata": {},
     "output_type": "execute_result"
    }
   ],
   "source": [
    "scores = [55, 92, 78, 60, 85, 78, 90, 66, 73, 88]\n",
    "scores"
   ]
  },
  {
   "cell_type": "code",
   "execution_count": 96,
   "id": "61aa766c",
   "metadata": {},
   "outputs": [
    {
     "name": "stdout",
     "output_type": "stream",
     "text": [
      "Mean: 76.5\n"
     ]
    }
   ],
   "source": [
    "mean = np.mean(scores)\n",
    "print(\"Mean:\", mean)"
   ]
  },
  {
   "cell_type": "code",
   "execution_count": 97,
   "id": "45d171a1",
   "metadata": {},
   "outputs": [
    {
     "name": "stdout",
     "output_type": "stream",
     "text": [
      "Median: 78.0\n"
     ]
    }
   ],
   "source": [
    "median = np.median(scores)\n",
    "print(\"Median:\", median)"
   ]
  },
  {
   "cell_type": "code",
   "execution_count": 98,
   "id": "97a2cf6a",
   "metadata": {},
   "outputs": [
    {
     "name": "stdout",
     "output_type": "stream",
     "text": [
      "Range: 37\n"
     ]
    }
   ],
   "source": [
    "range_value = np.max(scores) - np.min(scores)\n",
    "print(\"Range:\", range_value)"
   ]
  },
  {
   "cell_type": "code",
   "execution_count": 99,
   "id": "224afd30",
   "metadata": {},
   "outputs": [
    {
     "name": "stdout",
     "output_type": "stream",
     "text": [
      "Variance: 148.85\n"
     ]
    }
   ],
   "source": [
    "variance = np.var(scores) \n",
    "print(\"Variance:\", variance)"
   ]
  },
  {
   "cell_type": "code",
   "execution_count": 100,
   "id": "60f77211",
   "metadata": {},
   "outputs": [
    {
     "name": "stdout",
     "output_type": "stream",
     "text": [
      "Standard Deviation: 12.200409829181968\n"
     ]
    }
   ],
   "source": [
    "std_dev = np.std(scores)  # ddof=0 by default → population std. dev\n",
    "print(\"Standard Deviation:\", std_dev)"
   ]
  },
  {
   "cell_type": "code",
   "execution_count": 101,
   "id": "bd91f24f",
   "metadata": {},
   "outputs": [],
   "source": [
    "# 2. Calculate Mode"
   ]
  },
  {
   "cell_type": "code",
   "execution_count": 102,
   "id": "2d6647f4",
   "metadata": {},
   "outputs": [
    {
     "name": "stdout",
     "output_type": "stream",
     "text": [
      "Mode: 78\n",
      "Frequency: 2\n"
     ]
    }
   ],
   "source": [
    "from scipy import stats\n",
    "import numpy as np\n",
    "\n",
    "mode_result = stats.mode(scores, keepdims=True)\n",
    "print(\"Mode:\", mode_result.mode[0])\n",
    "print(\"Frequency:\", mode_result.count[0])"
   ]
  },
  {
   "cell_type": "code",
   "execution_count": 103,
   "id": "9839419e",
   "metadata": {},
   "outputs": [],
   "source": [
    "# 3. Compare Results\n",
    "# After comparing the two results, Manual and NumPy Calculations, are both same. Therefore, they are verified and tested. "
   ]
  }
 ],
 "metadata": {
  "kernelspec": {
   "display_name": "horizons25",
   "language": "python",
   "name": "python3"
  },
  "language_info": {
   "codemirror_mode": {
    "name": "ipython",
    "version": 3
   },
   "file_extension": ".py",
   "mimetype": "text/x-python",
   "name": "python",
   "nbconvert_exporter": "python",
   "pygments_lexer": "ipython3",
   "version": "3.12.9"
  }
 },
 "nbformat": 4,
 "nbformat_minor": 5
}
