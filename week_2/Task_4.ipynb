{
 "cells": [
  {
   "cell_type": "code",
   "execution_count": 19,
   "id": "47ea6a3f",
   "metadata": {},
   "outputs": [],
   "source": [
    "import numpy as np\n",
    "import sklearn as sk"
   ]
  },
  {
   "cell_type": "code",
   "execution_count": 20,
   "id": "e55bfd0f",
   "metadata": {},
   "outputs": [],
   "source": [
    "# Data\n",
    "X_cluster_data = np.array([\n",
    "    [2, 10],  # Point 0\n",
    "    [2, 5],   # Point 1\n",
    "    [8, 4],   # Point 2\n",
    "    [5, 8],   # Point 3\n",
    "    [7, 5],   # Point 4\n",
    "    [6, 4],   # Point 5\n",
    "    [1, 2],   # Point 6\n",
    "    [4, 9]    # Point 7\n",
    "])"
   ]
  },
  {
   "cell_type": "code",
   "execution_count": 21,
   "id": "9cf0b0ad",
   "metadata": {},
   "outputs": [],
   "source": [
    "# 4.1 Manual K-Means Iterations"
   ]
  },
  {
   "cell_type": "code",
   "execution_count": 22,
   "id": "c30c5cc4",
   "metadata": {},
   "outputs": [],
   "source": [
    "C1 = X_cluster_data[0]  # [2, 10]\n",
    "C2 = X_cluster_data[1]  # [2, 5]"
   ]
  },
  {
   "cell_type": "code",
   "execution_count": 23,
   "id": "9f8abcc9",
   "metadata": {},
   "outputs": [
    {
     "name": "stdout",
     "output_type": "stream",
     "text": [
      "Point 0 = [ 2 10], Distance to C1: 0.00, Distance to C2: 5.00 => Assigned to Cluster 1\n",
      "Point 1 = [2 5], Distance to C1: 5.00, Distance to C2: 0.00 => Assigned to Cluster 2\n",
      "Point 2 = [8 4], Distance to C1: 8.49, Distance to C2: 6.08 => Assigned to Cluster 2\n",
      "Point 3 = [5 8], Distance to C1: 3.61, Distance to C2: 4.24 => Assigned to Cluster 1\n",
      "Point 4 = [7 5], Distance to C1: 7.07, Distance to C2: 5.00 => Assigned to Cluster 2\n",
      "Point 5 = [6 4], Distance to C1: 7.21, Distance to C2: 4.12 => Assigned to Cluster 2\n",
      "Point 6 = [1 2], Distance to C1: 8.06, Distance to C2: 3.16 => Assigned to Cluster 2\n",
      "Point 7 = [4 9], Distance to C1: 2.24, Distance to C2: 4.47 => Assigned to Cluster 1\n"
     ]
    }
   ],
   "source": [
    "assignments = []\n",
    "for i, point in enumerate(X_cluster_data):\n",
    "    d_C1 = np.linalg.norm(point - C1)\n",
    "    d_C2 = np.linalg.norm(point - C2)\n",
    "    \n",
    "    if d_C1 < d_C2:\n",
    "        assignments.append(1) \n",
    "    else:\n",
    "        assignments.append(2) \n",
    "    \n",
    "    print(f\"Point {i} = {point}, Distance to C1: {d_C1:.2f}, Distance to C2: {d_C2:.2f} => Assigned to Cluster {assignments[-1]}\")"
   ]
  },
  {
   "cell_type": "code",
   "execution_count": 24,
   "id": "c284239d",
   "metadata": {},
   "outputs": [
    {
     "name": "stdout",
     "output_type": "stream",
     "text": [
      "Updated Centroids:\n",
      "New Centroid 1 (C1): [3.66666667 9.        ]\n",
      "New Centroid 2 (C2): [4.8 4. ]\n"
     ]
    }
   ],
   "source": [
    "cluster1_points = X_cluster_data[np.array(assignments) == 1]\n",
    "cluster2_points = X_cluster_data[np.array(assignments) == 2]\n",
    "\n",
    "new_C1 = np.mean(cluster1_points, axis=0)\n",
    "new_C2 = np.mean(cluster2_points, axis=0)\n",
    "\n",
    "print(\"Updated Centroids:\")\n",
    "print(\"New Centroid 1 (C1):\", new_C1)\n",
    "print(\"New Centroid 2 (C2):\", new_C2)"
   ]
  },
  {
   "cell_type": "code",
   "execution_count": 25,
   "id": "e7b7c7e6",
   "metadata": {},
   "outputs": [],
   "source": [
    "# 4.2 Using Scikit-learn"
   ]
  },
  {
   "cell_type": "code",
   "execution_count": 26,
   "id": "6bbcdb94",
   "metadata": {},
   "outputs": [],
   "source": [
    "from sklearn.cluster import KMeans\n",
    "\n",
    "X_cluster_data = np.array([\n",
    "    [2, 10],\n",
    "    [2, 5],\n",
    "    [8, 4],\n",
    "    [5, 8],\n",
    "    [7, 5],\n",
    "    [6, 4],\n",
    "    [1, 2],\n",
    "    [4, 9]\n",
    "])"
   ]
  },
  {
   "cell_type": "code",
   "execution_count": 29,
   "id": "f8fc44cc",
   "metadata": {},
   "outputs": [
    {
     "name": "stdout",
     "output_type": "stream",
     "text": [
      "Final Centroids:\n",
      "[[5.5  3.75]\n",
      " [3.25 8.  ]]\n"
     ]
    }
   ],
   "source": [
    "kmeans = KMeans(n_clusters=2, random_state=42, n_init='auto')\n",
    "kmeans.fit(X_cluster_data)\n",
    "\n",
    "print(\"Final Centroids:\")\n",
    "print(kmeans.cluster_centers_)\n"
   ]
  },
  {
   "cell_type": "code",
   "execution_count": 28,
   "id": "29fca1a9",
   "metadata": {},
   "outputs": [
    {
     "name": "stdout",
     "output_type": "stream",
     "text": [
      "\n",
      "Cluster Labels Assigned to Each Point:\n",
      "Point 0 = [ 2 10] → Cluster 1\n",
      "Point 1 = [2 5] → Cluster 1\n",
      "Point 2 = [8 4] → Cluster 0\n",
      "Point 3 = [5 8] → Cluster 1\n",
      "Point 4 = [7 5] → Cluster 0\n",
      "Point 5 = [6 4] → Cluster 0\n",
      "Point 6 = [1 2] → Cluster 0\n",
      "Point 7 = [4 9] → Cluster 1\n"
     ]
    }
   ],
   "source": [
    "print(\"\\nCluster Labels Assigned to Each Point:\")\n",
    "for i, label in enumerate(kmeans.labels_):\n",
    "    print(f\"Point {i} = {X_cluster_data[i]} → Cluster {label}\")\n",
    "\n",
    "final_centroids = kmeans.cluster_centers_\n",
    "cluster_labels = kmeans.labels_"
   ]
  },
  {
   "cell_type": "code",
   "execution_count": null,
   "id": "b96ede34",
   "metadata": {},
   "outputs": [],
   "source": [
    "# Interpretation:\n",
    "# The two final centroids calculated from the manual iteration and scikit learn are different.\n",
    "# Manual - C1 ≈ [3.67, 9.0], C2 ≈ [4.8, 4.0] | Scikit - C1 ≈ [3.25, 8.0], C2 ≈ [5.5, 3.75]\n",
    "# Scikit-learn's KMeans runs multiple iterations (until convergence). \n",
    "# It keeps recalculating centroids and reassigning points each time, minimizing the within-cluster variance (inertia)."
   ]
  }
 ],
 "metadata": {
  "kernelspec": {
   "display_name": "horizons25",
   "language": "python",
   "name": "python3"
  },
  "language_info": {
   "codemirror_mode": {
    "name": "ipython",
    "version": 3
   },
   "file_extension": ".py",
   "mimetype": "text/x-python",
   "name": "python",
   "nbconvert_exporter": "python",
   "pygments_lexer": "ipython3",
   "version": "3.12.9"
  }
 },
 "nbformat": 4,
 "nbformat_minor": 5
}
