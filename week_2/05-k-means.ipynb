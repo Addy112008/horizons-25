{
 "cells": [
  {
   "cell_type": "code",
   "execution_count": null,
   "id": "47ea6a3f",
   "metadata": {},
   "outputs": [],
   "source": [
    "import numpy as np\n",
    "import sklearn.datasets import make_blobs\n"
   ]
  },
  {
   "cell_type": "code",
   "execution_count": null,
   "id": "82fa4981",
   "metadata": {},
   "outputs": [
    {
     "ename": "NameError",
     "evalue": "name 'make_blobs' is not defined",
     "output_type": "error",
     "traceback": [
      "\u001b[31m---------------------------------------------------------------------------\u001b[39m",
      "\u001b[31mNameError\u001b[39m                                 Traceback (most recent call last)",
      "\u001b[36mCell\u001b[39m\u001b[36m \u001b[39m\u001b[32mIn[1]\u001b[39m\u001b[32m, line 1\u001b[39m\n\u001b[32m----> \u001b[39m\u001b[32m1\u001b[39m x_blobs, y_blobs_true = \u001b[43mmake_blobs\u001b[49m(n_sample =\u001b[32m100\u001b[39m, n_clusters = \u001b[32m3\u001b[39m)\n",
      "\u001b[31mNameError\u001b[39m: name 'make_blobs' is not defined"
     ]
    }
   ],
   "source": [
    "x_blobs, y_blobs_true = make_blobs(n_sample =100, n_clusters = 3)\n"
   ]
  },
  {
   "cell_type": "code",
   "execution_count": null,
   "id": "e55bfd0f",
   "metadata": {},
   "outputs": [],
   "source": [
    "from sklearn.cluster import k_means"
   ]
  }
 ],
 "metadata": {
  "kernelspec": {
   "display_name": "horizons25",
   "language": "python",
   "name": "python3"
  },
  "language_info": {
   "codemirror_mode": {
    "name": "ipython",
    "version": 3
   },
   "file_extension": ".py",
   "mimetype": "text/x-python",
   "name": "python",
   "nbconvert_exporter": "python",
   "pygments_lexer": "ipython3",
   "version": "3.12.9"
  }
 },
 "nbformat": 4,
 "nbformat_minor": 5
}
